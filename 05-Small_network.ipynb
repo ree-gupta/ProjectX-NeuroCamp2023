{
 "cells": [
  {
   "cell_type": "markdown",
   "metadata": {},
   "source": [
    "## Small networks"
   ]
  },
  {
   "cell_type": "markdown",
   "metadata": {},
   "source": [
    "Neuronal networks, the intricate webs of interconnected neurons, form the foundational frameworks for neural information processing. The dynamics of individual neurons have been extensively studied using techniques like intracellular recordings. However, understanding the emergent behavior from the interplay of multiple neurons requires examining them in a connected network setting. In simple words, the collective behavior of neurons often surpasses the sum of individual neuronal activities.\n",
    "\n",
    "In this section, we pivot from observing individual neurons to diving into the interconnected world of neuronal networks."
   ]
  },
  {
   "cell_type": "markdown",
   "metadata": {},
   "source": [
    "### Part 1: Constructing a Basic Two Neuron Network\n",
    "\n",
    "1. Setting Up Your Canvas:\n",
    "    \n",
    "    - Launch a fresh workspace: Click the menu icon situated in the top left corner, then opt for 'New' followed by choosing the 'New simulation - A blank canvas' option.\n",
    "\n",
    "2. Creating and Labeling Neurons:\n",
    "    \n",
    "    - Introduce two neurons to your workspace. Designate them as 'A' and 'B' for clear distinction. Labeling can be done by selecting a neuron, hitting the gear icon located in the bottom left corner, which will bring forth a settings tab. Locate the 'Label:' field, input your chosen label, and validate with the 'Enter' key.\n",
    "\n",
    "3. Forming Inter-Neuronal Connections:\n",
    "    \n",
    "    - Establish a direct connection from neuron 'A' to 'B': Click on neuron 'A', grip its extending connection, and drag it to connect with neuron 'B'.\n",
    "\n",
    "4. Incorporating Driving Current:\n",
    "    \n",
    "    - As done in previous section, connect a DC clamp to neuron 'A'. To simultaneously monitor both neurons, drag a voltmeter into the workspace, tap on it, and then connect it to both the neurons\n",
    "\n",
    "5. Observe and document your finding:\n",
    "   \n",
    "   - Compare and contrast the voltage traces for both the neurons. Adjust the resting potential of both neurons to -70 mV and discern the least current needed to stimulate neuron 'B' to fire."
   ]
  },
  {
   "cell_type": "markdown",
   "metadata": {},
   "source": [
    "### Part 2: Summation of Driving Inputs\n",
    "\n",
    "1. Setting Up Your Canvas:\n",
    "    \n",
    "    - Launch a fresh workspace: Click the menu icon situated in the top left corner, then opt for 'New' followed by choosing the 'New simulation - A blank canvas' option.\n",
    "    - Place 3 separate leaky neurons in the workspace. These neurons will be used to explore the summation of inputs.\n",
    "    - For each neuron, set initial parameters, such as: Membrane time constant (τm = 20 ms), Spike threshold (θ = -55 mV), and Absolute refractory time (τ_ref = 2 ms).\n",
    "    - Connect a touch activator to each of these neurons. Touch activators provide a one-time input when touched or clicked.\n",
    "\n",
    "2. Adding an output neuron\n",
    "\n",
    "    - Add another leaky neuron on the canvas, to use an output neuron.\n",
    "    - Connect all the three neurons in a convergent manner to this output neuron.\n",
    "    - Drag a voltmeter into the workspace and connect it to this output neuron to observe the summation of inputs.\n",
    "\n",
    "3. Introduce Single and Combined Inputs:\n",
    "\n",
    "    - Activate each touch activator separately and note how each individual neuron responds.\n",
    "    - Now, try activating two or all three touch activators in quick succession. Observe the summation effect on each neuron's membrane potential.\n",
    "\n",
    "4. Explore the Influence of Biophysical Parameters on Summation:\n",
    "   \n",
    "    - Experiment by adjusting the parameters for one neuron at a time. For instance, change the spike threshold (θ) for the output neuron and keep the other parameters constant.\n",
    "\n",
    "5. Introduce delays:\n",
    "\n",
    "    - Activate the touch activators again, but this time with some delay and see how introducing a delay can impact the summation effect and the resulting spikes.\n",
    "\n",
    "6. Document your findings:\n",
    "\n",
    "    - Compile all your observations regarding summation of inputs in neurons. Discuss how the summation is influenced by biophysical parameters, delays, and the combination of inputs.\n",
    "    - Relate your findings to the behavior of real biological neurons, especially concerning the principles of temporal and spatial summation.\n"
   ]
  },
  {
   "cell_type": "markdown",
   "metadata": {},
   "source": [
    "### Part 3: Disinhibition\n",
    "\n",
    "1. Setting up the basic neurons:\n",
    "    \n",
    "    - Place three neurons on the workspace: Neuron A (Inhibitory), Neuron B (Inhibitory), and Neuron C (Excitatory).\n",
    "\n",
    "2. Connect the neurons:\n",
    "\n",
    "    - Connect Neuron A to Neuron B, which means that Neuron A will inhibit Neuron B.\n",
    "    - Connect Neuron B to Neuron C. So, Neuron B will inhibit Neuron C.\n",
    "\n",
    "3. Adding inputs:\n",
    "   \n",
    "   - Add a touch activator to neuron A.\n",
    "   - Add a DC input source to neuron B with current output 2.00 nA\n",
    "   - Add a DC input source to neuron B with current output 1.30 nA\n",
    "\n",
    "4. Response without disinhibition:\n",
    "   \n",
    "    - Add a voltmeter to the neuron C to observe and document its dynamics. Notice temporal summation of inputs in this case.\n",
    "\n",
    "5. Effect of disinhibition:\n",
    "\n",
    "    - Activate the touch activator of neuron A to inhibit neuron B and observe the response of neruon C. You might need to activate neuron A multiple times to observe a signiificant difference.\n",
    "\n",
    "6. Document your findings:\n",
    "        \n",
    "    - Document your observations and write down your interpretation/explanation.\n"
   ]
  }
 ],
 "metadata": {
  "language_info": {
   "name": "python"
  },
  "orig_nbformat": 4
 },
 "nbformat": 4,
 "nbformat_minor": 2
}
