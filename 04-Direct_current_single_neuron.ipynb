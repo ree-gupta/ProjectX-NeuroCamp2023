{
 "cells": [
  {
   "cell_type": "markdown",
   "metadata": {},
   "source": [
    "## Intracellular recordings\n",
    "\n",
    "Intracellular recordings, a vital tool in the study of electrophysiology, allow scientists to measure the membrane potential of individual neurons. Typically, these recordings are carried out in vitro using acute slice preparations, where individual neurons are isolated and their synaptic inputs are no longer active. To simulate the synaptic input that a neuron would normally receive under in vivo conditions, artificial input, such as a direct current (DC), is applied to the neuron through an electrode.\n",
    "\n",
    "By varying the amplitude of this DC input, one can systematically explore the response properties of the neuron. This is a fundamental technique used to characterize the behavior of biological neurons in electrophysiological experiments. In this section, you'll apply this technique to a model neuron using the Neuronify app, enabling a greater understanding of neuronal behavior and its dependence on various biophysical parameters."
   ]
  },
  {
   "cell_type": "markdown",
   "metadata": {},
   "source": [
    "## Direct Current Injection into Single Neuron"
   ]
  },
  {
   "cell_type": "markdown",
   "metadata": {},
   "source": [
    "**Objective:** To observe and understand the membrane potential response of a model neuron to various amplitudes of direct current, emulating the principles of in vitro intracellular recordings. Through manipulation of the neuron's biophysical parameters, gain insights into the corresponding changes in neuronal behavior."
   ]
  },
  {
   "cell_type": "markdown",
   "metadata": {},
   "source": [
    "**Procedure:**\n",
    "\n",
    "1. Setup the Experiment:\n",
    "    - Launch Neuronify and create a single neuron model. Start with a simple Linear Integrate-and-Fire (LIF) neuron, which is a rudimentary representation of biological neurons.\n",
    "    - Set initial neuron parameters, such as: Membrane time constant (τm = 20 ms), Spike threshold (θ = -55 mV), and Absolute refractory time (τ_ref = 2 ms). The goal is to investigate how alterations in these parameters affect the neuron's response to varying DC inputs.  \n",
    "  <br>\n",
    "\n",
    "1. Apply Direct Current and Measure the Membrane Potential:\n",
    "    - Connect a DC Current source to your neuron and start the simulation. Use Neuronify's built-in voltmeter tool to monitor the membrane potential (V).\n",
    "    - Gradually adjust the DC current input in the positive direction, from 0 to 2 nA in steps of 0.05 nA.\n",
    "  <br>\n",
    "\n",
    "1. Analyze and Document the Results:\n",
    "    - Document the neuron's membrane potential response over time for each applied current amplitude. You could use other measurement devices such as firing rate plot as well to quantify the response.\n",
    "    - Identify specific patterns in these responses and relate them to the behavior observed in actual biological neurons undergoing intracellular recordings.   \n",
    "  <br>\n",
    "\n",
    "1. Explore the Influence of Biophysical Parameters:\n",
    "    - Modify one parameter at a time (the membrane time constant (τm), the spike threshold (θ), and the absolute refractory time (τ_ref)), and perform the current injection experiment again.\n",
    "    - Record how these changes influence the membrane potential response for different current amplitudes.  \n",
    "  <br>\n",
    "\n",
    "1. Document your findings:\n",
    "    - Compile your observations and interpretations within the context of biological neurons and their response to artificial DC inputs. Include a discussion of how the membrane potential response is influenced by the biophysical parameters and how these findings enhance our understanding of real neuronal behavior.\n",
    "\n",
    "\n",
    "Additional Exploration\n",
    "\n",
    "- Explore this setup further by replacing the DC current with other types of inputs available in Neuronify (e.g., AC current source and Irregular spike generator). Test different parameters for each of the input types to see how they affect the response of the neuron."
   ]
  },
  {
   "cell_type": "markdown",
   "metadata": {},
   "source": []
  }
 ],
 "metadata": {
  "language_info": {
   "name": "python"
  },
  "orig_nbformat": 4
 },
 "nbformat": 4,
 "nbformat_minor": 2
}
