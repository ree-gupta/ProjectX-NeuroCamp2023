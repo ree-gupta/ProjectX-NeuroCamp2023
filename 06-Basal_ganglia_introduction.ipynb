{
 "cells": [
  {
   "cell_type": "markdown",
   "metadata": {},
   "source": [
    "## Basal Ganglia\n",
    "\n",
    "The basal ganglia, also known as basal nuclei, are a group of nuclei or nerve cells located deep within the cerebral hemispheres of the brain. They are a crucial part of the motor and reward systems and play an essential role in behavior, emotion, and cognition. The primary structures that make up the basal ganglia include the striatum (composed of the caudate nucleus and the putamen), the globus pallidus, the subthalamic nucleus, and the substantia nigra.\n",
    "\n",
    "These structures interact with each other in complex circuits, which influence a wide variety of functions. In motor control, the basal ganglia contribute to the initiation of voluntary movements, the suppression of undesired movements, and motor learning. In terms of cognition and emotion, they are implicated in decision-making, reward-based learning, and a host of other cognitive processes. Abnormalities in the basal ganglia can lead to a range of neurological conditions such as Parkinson's disease, Huntington's disease, and several types of dystonia.\n",
    "\n",
    "<img src=\"./static/Basal_ganglia.png\" alt=\"Basal Ganglia\" style=\"width: 500px;\"/>\n",
    "\n",
    "[Source: By File:BrainCaudatePutamen.svg: User:LeevanjacksonDerivative work: User:SUM1 - Derivative work based on File:BrainCaudatePutamen.svg, CC BY-SA 4.0, https://commons.wikimedia.org/w/index.php?curid=85845448]\n",
    "\n",
    "### Computational Studies of Basal Ganglia\n",
    "\n",
    "In computational neuroscience, researchers use mathematical tools and theories to understand and describe how the nervous system works. The study of the basal ganglia, with its intricate structure and complex function, has benefited significantly from computational approaches.\n",
    "\n",
    "1. Modelling Network Dynamics: Computational models can help illustrate how the various parts of the basal ganglia interact, providing insights into the basal ganglia's overall function. Researchers use different types of models, including biophysical detailed models that aim to replicate the biophysical properties of the individual neurons and synapses, and more abstract models like rate models that describe the average activity of large groups of neurons.\n",
    "\n",
    "2. Understanding Pathologies: Another key application of computational neuroscience is in understanding how abnormalities in the basal ganglia can lead to disease. For example, models of the dopamine system, which is disrupted in Parkinson's disease, can give insights into how changes at the cellular level can lead to the motor symptoms seen in this condition.\n",
    "\n",
    "3. Predictive Modelling: Computational models can be used to predict the effects of interventions such as deep brain stimulation, which is used to treat Parkinson's disease and other neurological conditions. These models can help to optimize these treatments, making them more effective and reducing side effects."
   ]
  },
  {
   "cell_type": "markdown",
   "metadata": {},
   "source": [
    "In the next steps of our mini project, we will be modelling the network dynamics of basal ganglia using neuronify.\n",
    "\n",
    "The basal ganglia work through two primary pathways: the direct pathway and the indirect pathway. These pathways are essentially neural circuits composed of several interconnected brain structures, and they serve to balance and modulate the excitatory and inhibitory signals that ultimately control our movements."
   ]
  },
  {
   "cell_type": "markdown",
   "metadata": {},
   "source": [
    "## Direct Pathway\n",
    "\n",
    "The direct pathway is known as the 'accelerator' for movement. It provides a means for the cerebral cortex to excite the thalamus and promote motor function. The pathway initiates with signals from the cerebral cortex to the striatum (specifically, the caudate nucleus and putamen). These signals are excitatory and are carried by the neurotransmitter glutamate.\n",
    "\n",
    "The striatum then sends inhibitory signals via the neurotransmitter GABA to the internal segment of the globus pallidus (GPi) and the substantia nigra pars reticulata (SNr). The inhibition of these structures decreases their inhibitory influence on the thalamus, effectively 'disinhibiting' the thalamus. This disinhibition allows the thalamus to send excitatory signals back to the cerebral cortex, which in turn, initiates and facilitates voluntary movement.\n",
    "\n",
    "<img src=\"./static/bg-direct-pathway.png\" alt=\"Direct Pathway\" style=\"width: 350px;\"/>"
   ]
  },
  {
   "cell_type": "markdown",
   "metadata": {},
   "source": [
    "## Indirect Pathway\n",
    "\n",
    "The indirect pathway works as the 'brake' for movement, opposing the direct pathway. It provides a means to prevent unwanted or excessive motor function. The pathway starts similarly to the direct pathway, with excitatory signals from the cerebral cortex reaching the striatum.\n",
    "\n",
    "In the indirect pathway, the striatum sends inhibitory signals to the external segment of the globus pallidus (GPe), which in turn reduces its inhibitory signals to the subthalamic nucleus (STN). The reduced inhibition leads to an 'excitation' of the STN, which sends excitatory signals to the GPi and SNr.\n",
    "\n",
    "The GPi and SNr, now excited, send inhibitory signals to the thalamus, reducing the thalamus' excitatory output to the cerebral cortex. This reduction in thalamic output acts to suppress undesired or excessive movements.\n",
    "\n",
    "<img src=\"./static/bg-indirect-pathway.png\" alt=\"Indirect Pathway\" style=\"width: 500px;\"/>"
   ]
  },
  {
   "cell_type": "markdown",
   "metadata": {},
   "source": [
    "## Balance and Dopamine's Role\n",
    "\n",
    "The direct and indirect pathways of the basal ganglia are closely regulated and finely balanced. Any imbalance can lead to conditions such as Parkinson's disease and Huntington's disease.\n",
    "\n",
    "Dopamine, a neurotransmitter produced in the substantia nigra, plays a critical role in maintaining this balance. In the direct pathway, dopamine enhances the activity of the excitatory neurons, promoting movement. In contrast, in the indirect pathway, dopamine inhibits activity, preventing unwanted movement. Therefore, dopamine simultaneously promotes desired movement and suppresses undesired movement, playing a crucial role in the smooth execution of motor commands."
   ]
  },
  {
   "cell_type": "markdown",
   "metadata": {},
   "source": [
    "### References and further readings:\n",
    "\n",
    "- Basal Ganglia Neuroanatomy (Only for reference and interest, not directly related to the project) - https://www.youtube.com/watch?v=InJByqg1x-0&t=395s\n",
    "- Basal Ganglia Anatomy and Function (Important - explains most of the context required for the project) - https://www.youtube.com/watch?v=hxvep2Y8ShI&t=1298s\n",
    "- What is Parkinson's Disease? (To develop motivation to study models of Basal Ganglia)- https://www.youtube.com/watch?v=3n8UjH9h_8I&list=PLbKSbFnKYVY0gSY9_6d4iVKk-p6sfHoA7\n",
    "- Understanding Parkinson's Disease - Including Direct and Indirect Pathway (Can be omitted if needed, repeats a lot of information in previous videos) - https://www.youtube.com/watch?v=_pZmMU2xLM8\n",
    "\n",
    "#### Some polish videos (not really sure if they have similar content):\n",
    "\n",
    "-  Neuroanatomia - Wpływ istoty czarnej i interneuronów prążkowia na pętlę jąder podstawnych - https://www.youtube.com/watch?v=rGcteRYvpYQ\n",
    "-   Jądra podstawne kresomózgowia (wstęp) - https://www.youtube.com/watch?v=b-m9uO34nCc&t=107s"
   ]
  }
 ],
 "metadata": {
  "language_info": {
   "name": "python"
  },
  "orig_nbformat": 4
 },
 "nbformat": 4,
 "nbformat_minor": 2
}
