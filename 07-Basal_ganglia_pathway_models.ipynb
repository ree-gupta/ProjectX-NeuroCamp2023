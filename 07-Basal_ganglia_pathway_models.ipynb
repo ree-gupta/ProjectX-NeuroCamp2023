{
 "cells": [
  {
   "cell_type": "markdown",
   "metadata": {},
   "source": [
    "## Modelling the Direct and Indirect Pathway of BG using Neuronify\n",
    "\n",
    "We can now build an abstract model of the direct and the indirect pathway of the basal ganglia using neuronify."
   ]
  },
  {
   "cell_type": "markdown",
   "metadata": {},
   "source": [
    "### Direct Pathway\n",
    "\n",
    "Using Neuronify, set up the direct basal ganglia motor loop, referencing the diagram in notebook 6. Ensure all your neurons are of the \"leaky\" type. Connect the GPi neurons and the VL thalamus neurons to standard (regular) spike generators, noting that they usually exhibit spontaneous activity. Fix a touch activator to the neurons of the prefrontal cortex and the substantia nigra. Link a voltmeter to the neurons in the motor cortex. To replicate the authentic function of the basal ganglia, you may need to tweak the spike generators' settings.\n",
    "\n",
    "Activate the direct pathway by pressing on the touch activator. Once the prefrontal cortex neurons stimulate the putamen adequately (consider this as the neurons indicating \"ample activity to validate this motion\"), it will pave the way for the premotor cortex to initiate the movement. Elaborate on this mechanism using your constructed model.\n",
    "\n",
    "Label your model appropriately and document your inferences."
   ]
  },
  {
   "cell_type": "markdown",
   "metadata": {},
   "source": [
    "### Indirect Pathway\n",
    "\n",
    "With similar principles as before, create a model for the indirect pathway of basal ganglia.  Link the GPe neurons and the STN (subthalamic nucleus) neurons to the touch activator as well, so as to activate the indirect pathway via the touch activator.\n",
    "\n",
    "Label your model appropriately and document your inferences."
   ]
  },
  {
   "cell_type": "markdown",
   "metadata": {},
   "source": [
    "### DISCUSS:\n",
    "\n",
    "- How do you think such models of basal ganglia can be used?"
   ]
  }
 ],
 "metadata": {
  "language_info": {
   "name": "python"
  },
  "orig_nbformat": 4
 },
 "nbformat": 4,
 "nbformat_minor": 2
}
