{
 "cells": [
  {
   "cell_type": "markdown",
   "metadata": {},
   "source": [
    "# Building a neuron!\n",
    "\n",
    "In this section, we will implement one of the simplest mathematical model of a neuron: the **leaky integrate-and-fire (LIF) model**. The basic idea of LIF neuron was proposed in 1907 by Louis Édouard Lapicque, long before we understood the electrophysiology of a neuron (see a translation of [Lapicque’s paper](https://link.springer.com/article/10.1007/s00422-007-0190-0)). More details of the model can be found in the book [Theoretical neuroscience by Peter Dayan and Laurence F. Abbott](https://www.gatsby.ucl.ac.uk/~dayan/book/)."
   ]
  },
  {
   "cell_type": "markdown",
   "metadata": {},
   "source": [
    "Let us first watch a video that gives an introduction to the leaky-integrate-fire (LIF) model, before we formalize and code one up:\n",
    "\n",
    "<iframe width=\"560\" height=\"315\" src=\"https://www.youtube.com/embed/rSExvwCVRYg\" title=\"YouTube video player\" frameborder=\"0\" allow=\"accelerometer; autoplay; clipboard-write; encrypted-media; gyroscope; picture-in-picture; web-share\" allowfullscreen></iframe>"
   ]
  },
  {
   "cell_type": "markdown",
   "metadata": {},
   "source": [
    "## LIF Neuron Model Description\n",
    "\n",
    "The subthreshold membrane potential dynamics of a Leaky Integrate-and-Fire (LIF) neuron is described by the following differential equation:\n",
    "\n",
    "\\begin{align}\n",
    "C_m \\frac{dV}{dt} = -g_L(V-E_L) + I \\quad \\text{(1)}\\\\\n",
    "\\end{align}\n",
    "\n",
    "where:\n",
    "- $C_m$ is the membrane capacitance,\n",
    "- $V$ is the membrane potential,\n",
    "- $g_L$ is the leak conductance ($g_L = \\frac{1}{R}$, with $R$ being the leak resistance),\n",
    "- $E_L$ is the resting potential, and\n",
    "- $I$ is the external input current.\n",
    "\n",
    "Dividing both sides of Equation (1) by $g_L$ gives:\n",
    "\n",
    "\n",
    "\\begin{align}\n",
    "\\tau_m \\frac{dV}{dt} = -(V - E_L) + \\frac{I}{g_L} \\quad \\text{(2)}\\\\\n",
    "\\end{align}\n",
    "\n",
    "where $\\tau_m$ is the membrane time constant and is defined as $\\tau_m = \\frac{C_m}{g_L}$. Note that dividing capacitance by conductance gives units of time!\n",
    "\n",
    "### Simulation of LIF Neuron Dynamics\n",
    "\n",
    "We will use Equation (2) to simulate the dynamics of the LIF neuron.\n",
    "\n",
    "If the external input $I$ is strong enough to make the membrane potential $V$ reach a certain threshold value $V_{\\text{th}}$, the neuron will generate a spike. In that case, the membrane potential $V$ is reset to a value $V_{\\text{reset}}$ (where $V_{\\text{reset}} < V_{\\text{th}}$), and the voltage is clamped to $V_{\\text{reset}}$ for a certain refractory period $\\tau_{\\text{ref}}$ ms, mimicking the refractoriness of the neuron during an action potential:\n",
    "\n",
    "\\begin{align}\n",
    "\\text{if}\\quad V(t_{\\text{sp}}) \\geq V_{\\text{th}}: \\quad V(t) = V_{\\text{reset}} \\quad \\text{for } t \\in (t_{\\text{sp}}, t_{\\text{sp}} + \\tau_{\\text{ref}})\\\\\n",
    "\\end{align}\n",
    "\n",
    "where $t_{\\text{sp}}$ is the spike time when the membrane potential $V(t)$ just exceeded $V_{\\text{th}}$.\n",
    "\n",
    "**Note:** In the video, the symbol $\\theta$ corresponds to the threshold voltage $V_{\\text{th}}$, and the symbol $\\Delta$ corresponds to the refractory time $\\tau_{\\text{ref}}$.\n",
    "\n",
    "The LIF model captures several important aspects of a neuron, including:\n",
    "- Spatial and temporal integration of synaptic inputs,\n",
    "- Spike generation upon reaching the threshold,\n",
    "- Refractoriness during the action potential,\n",
    "- Leaky membrane behavior.\n",
    "\n",
    "It is essential to keep in mind that the LIF model assumes that spatial and temporal integration of inputs is linear and that membrane potential dynamics close to the spike threshold are much slower in LIF neurons compared to real neurons.\n"
   ]
  },
  {
   "cell_type": "markdown",
   "metadata": {},
   "source": [
    "### Coding up a LIF neuron\n",
    "\n",
    "We now look at the Python code to calculate our equation for the LIF neuron and simulate the LIF neuron dynamics. We will use the \"Euler method\" to numerically integrate this equation:\n",
    "\n",
    "\\begin{equation}\n",
    "\\tau_m\\frac{dV}{dt} = -(V-E_L) + \\frac{I}{g_L}\\,\n",
    "\\end{equation}\n",
    "\n",
    "where $V$ is the membrane potential, $g_L$ is the leak conductance, $E_L$ is the resting potential, $I$ is the external input current, and $\\tau_m$ is membrane time constant.\n",
    "\n",
    "The cell below initializes a dictionary that stores parameters of the LIF neuron model and the simulation scheme. You can use `pars=default_pars(T=simulation_time, dt=time_step)` to get the parameters. Note that, `simulation_time` and `time_step` have the unit `ms`. In addition, you can add the value to a new parameter by `pars['New_param'] = value`."
   ]
  },
  {
   "cell_type": "code",
   "execution_count": 1,
   "metadata": {},
   "outputs": [],
   "source": [
    "# Imports\n",
    "import numpy as np\n",
    "import matplotlib.pyplot as plt"
   ]
  },
  {
   "cell_type": "code",
   "execution_count": 2,
   "metadata": {},
   "outputs": [],
   "source": [
    "# @title Plotting Functions\n",
    "\n",
    "def plot_volt_trace(pars, v, sp):\n",
    "  \"\"\"\n",
    "  Plot trajetory of membrane potential for a single neuron\n",
    "\n",
    "  Expects:\n",
    "  pars   : parameter dictionary\n",
    "  v      : volt trajetory\n",
    "  sp     : spike train\n",
    "\n",
    "  Returns:\n",
    "  figure of the membrane potential trajetory for a single neuron\n",
    "  \"\"\"\n",
    "\n",
    "  V_th = pars['V_th']\n",
    "  dt, range_t = pars['dt'], pars['range_t']\n",
    "  if sp.size:\n",
    "    sp_num = (sp / dt).astype(int) - 1\n",
    "    v[sp_num] += 20  # draw nicer spikes\n",
    "\n",
    "  plt.plot(pars['range_t'], v, 'b')\n",
    "  plt.axhline(V_th, 0, 1, color='k', ls='--')\n",
    "  plt.xlabel('Time (ms)')\n",
    "  plt.ylabel('V (mV)')\n",
    "  plt.legend(['Membrane\\npotential', r'Threshold V$_{\\mathrm{th}}$'],\n",
    "             loc=[1.05, 0.75])\n",
    "  plt.ylim([-80, -40])\n",
    "  plt.show()\n"
   ]
  },
  {
   "cell_type": "code",
   "execution_count": 3,
   "metadata": {},
   "outputs": [
    {
     "name": "stdout",
     "output_type": "stream",
     "text": [
      "{'V_th': -55.0, 'V_reset': -75.0, 'tau_m': 10.0, 'g_L': 10.0, 'V_init': -75.0, 'E_L': -75.0, 'tref': 2.0, 'T': 400.0, 'dt': 0.1, 'range_t': array([0.000e+00, 1.000e-01, 2.000e-01, ..., 3.997e+02, 3.998e+02,\n",
      "       3.999e+02])}\n"
     ]
    }
   ],
   "source": [
    "def default_pars(**kwargs):\n",
    "  pars = {}\n",
    "\n",
    "  # typical neuron parameters#\n",
    "  pars['V_th'] = -55.     # spike threshold [mV]\n",
    "  pars['V_reset'] = -75.  # reset potential [mV]\n",
    "  pars['tau_m'] = 10.     # membrane time constant [ms]\n",
    "  pars['g_L'] = 10.       # leak conductance [nS]\n",
    "  pars['V_init'] = -75.   # initial potential [mV]\n",
    "  pars['E_L'] = -75.      # leak reversal potential [mV]\n",
    "  pars['tref'] = 2.       # refractory time (ms)\n",
    "\n",
    "  # simulation parameters #\n",
    "  pars['T'] = 400.  # Total duration of simulation [ms]\n",
    "  pars['dt'] = .1   # Simulation time step [ms]\n",
    "\n",
    "  # external parameters if any #\n",
    "  for k in kwargs:\n",
    "    pars[k] = kwargs[k]\n",
    "\n",
    "  pars['range_t'] = np.arange(0, pars['T'], pars['dt'])  # Vector of discretized time points [ms]\n",
    "\n",
    "  return pars\n",
    "\n",
    "\n",
    "pars = default_pars()\n",
    "print(pars)"
   ]
  },
  {
   "cell_type": "code",
   "execution_count": 10,
   "metadata": {},
   "outputs": [
    {
     "data": {
      "image/png": "[encoded data removed]",
      "text/plain": [
       "<Figure size 432x288 with 1 Axes>"
      ]
     },
     "metadata": {},
     "output_type": "display_data"
    }
   ],
   "source": [
    "def run_LIF(pars, Iinj, stop=False):\n",
    "  \"\"\"\n",
    "  Simulate the LIF dynamics with external input current\n",
    "\n",
    "  Args:\n",
    "    pars       : parameter dictionary\n",
    "    Iinj       : input current [pA]. The injected current here can be a value\n",
    "                 or an array\n",
    "    stop       : boolean. If True, use a current pulse\n",
    "\n",
    "  Returns:\n",
    "    rec_v      : membrane potential\n",
    "    rec_sp     : spike times\n",
    "  \"\"\"\n",
    "\n",
    "  # Set parameters\n",
    "  V_th, V_reset = pars['V_th'], pars['V_reset']\n",
    "  tau_m, g_L = pars['tau_m'], pars['g_L']\n",
    "  V_init, E_L = pars['V_init'], pars['E_L']\n",
    "  dt, range_t = pars['dt'], pars['range_t']\n",
    "  Lt = range_t.size\n",
    "  tref = pars['tref']\n",
    "\n",
    "  # Initialize voltage\n",
    "  v = np.zeros(Lt)\n",
    "  v[0] = V_init\n",
    "\n",
    "  # Set current time course\n",
    "  Iinj = Iinj * np.ones(Lt)\n",
    "\n",
    "  # If current pulse, set beginning and end to 0\n",
    "  if stop:\n",
    "    Iinj[:int(len(Iinj) / 2) - 1000] = 0\n",
    "    Iinj[int(len(Iinj) / 2) + 1000:] = 0\n",
    "\n",
    "  # Loop over time\n",
    "  rec_spikes = []  # record spike times\n",
    "  tr = 0.  # the count for refractory duration\n",
    "\n",
    "  for it in range(Lt - 1):\n",
    "\n",
    "    if tr > 0:  # check if in refractory period\n",
    "      v[it] = V_reset  # set voltage to reset\n",
    "      tr = tr - 1 # reduce running counter of refractory period\n",
    "\n",
    "    elif v[it] >= V_th:  # if voltage over threshold\n",
    "      rec_spikes.append(it)  # record spike event\n",
    "      v[it] = V_reset  # reset voltage\n",
    "      tr = tref / dt  # set refractory time\n",
    "\n",
    "    # Calculate the increment of the membrane potential\n",
    "    dv = (-(v[it] - E_L) + Iinj[it] / g_L) * (dt / tau_m)\n",
    "\n",
    "    # Update the membrane potential\n",
    "    v[it + 1] = v[it] + dv\n",
    "\n",
    "  # Get spike times in ms\n",
    "  rec_spikes = np.array(rec_spikes) * dt\n",
    "\n",
    "  return v, rec_spikes\n",
    "\n",
    "\n",
    "# Get parameters\n",
    "pars = default_pars(T=500)\n",
    "\n",
    "# Simulate LIF model\n",
    "v, sp = run_LIF(pars, Iinj=100, stop=True)\n",
    "\n",
    "# Visualize\n",
    "with plt.xkcd():\n",
    "  plot_volt_trace(pars, v, sp)"
   ]
  }
 ],
 "metadata": {
  "kernelspec": {
   "display_name": "Python 3",
   "language": "python",
   "name": "python3"
  },
  "language_info": {
   "codemirror_mode": {
    "name": "ipython",
    "version": 3
   },
   "file_extension": ".py",
   "mimetype": "text/x-python",
   "name": "python",
   "nbconvert_exporter": "python",
   "pygments_lexer": "ipython3",
   "version": "3.10.12"
  },
  "orig_nbformat": 4
 },
 "nbformat": 4,
 "nbformat_minor": 2
}
