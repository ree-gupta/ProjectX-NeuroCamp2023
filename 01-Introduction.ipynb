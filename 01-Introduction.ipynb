{
 "cells": [
  {
   "cell_type": "markdown",
   "metadata": {},
   "source": [
    "# Introduction to Computational Neuroscience\n",
    "\n",
    "Computational neuroscience is an interdisciplinary field that applies mathematical and computational approaches to understanding the complexities of the brain. It doesn't just focus on individual neurons and their signals, such as action potentials (spikes) or local field potentials (LFPs). Instead, it aims to understand the full picture of how the brain works, from how individual neurons process information, to how they connect to form complex networks, to how these networks interact to produce cognition and behavior.\n",
    "\n",
    "In computational neuroscience, mathematical models and computer simulations are used to study diverse aspects of the brain, including the processing and transmission of sensory information, decision-making processes, learning and memory mechanisms, the brain's structural architecture, and its dynamics over different timescales.\n",
    "\n",
    "It's also about interpreting and analyzing large amounts of experimental data collected from neuroimaging studies, electrophysiological recordings, and other modern techniques. Furthermore, it delves into the principles of brain diseases and disorders, shedding light on the pathologies that disrupt normal brain function.\n",
    "\n",
    "## History of Computational Neuroscience\n",
    "\n",
    "The story of computational neuroscience starts in the 1950s, with two scientists named Alan Hodgkin and Andrew Huxley. They were curious about how neurons send signals, so they used mathematical equations to describe this process. This was the first model of a neuron and marked the beginning of computational neuroscience. Their work was so important that they won the Nobel Prize in Physiology or Medicine in 1963!\n",
    "\n",
    "In the 1980s, the field really began to grow. Computers became more powerful, and scientists were able to make more complex models of the brain. One important person during this time was John Hopfield, who created a type of model called a \"neural network\". His work showed how networks of neurons could store memories, and his models are still widely used today.\n",
    "\n",
    "Today, computational neuroscience is a booming field. Scientists use it to study everything from how we see and hear, to how diseases like Alzheimer's and Parkinson's affect the brain. We've even used computational neuroscience to help design artificial intelligence (AI) and machine learning algorithms!\n",
    "\n",
    "So, computational neuroscience is like the meeting point of biology, mathematics, computer science, and many other fields. It's a fascinating area that helps us understand one of the most complex and mysterious things in the universe - our own brain! It's a field full of exciting discoveries, and who knows, maybe one day you could be part of it!\n",
    "\n",
    "Let us see a short video that introduces us to the field:\n",
    "\n",
    "<iframe width=\"560\" height=\"315\" src=\"https://www.youtube.com/embed/d5oqIxhTU8I\" title=\"YouTube video player\" frameborder=\"0\" allow=\"accelerometer; autoplay; clipboard-write; encrypted-media; gyroscope; picture-in-picture; web-share\" allowfullscreen></iframe>"
   ]
  },
  {
   "attachments": {},
   "cell_type": "markdown",
   "metadata": {},
   "source": [
    "## Concept Recap - Neurons and Action Potential\n",
    "\n",
    "Neurons, or nerve cells, are the fundamental units of the brain and nervous system. They are responsible for receiving, processing, and transmitting information throughout the body. Each neuron is composed of a cell body, which contains the nucleus, and specialized extensions known as dendrites and axons. Dendrites receive signals from other neurons, while the axon transmits signals to other neurons. At the end of the axon is the axon terminal, which forms a junction, or synapse, with the dendrites or cell bodies of other neurons.\n",
    "\n",
    "One of the key ways neurons communicate with each other is through action potentials, also known as nerve impulses or spikes. An action potential is a brief, rapid electrical signal that travels along the axon.\n",
    "\n",
    "Under normal resting conditions, the inside of a neuron is negatively charged compared to the outside. This difference in charge, known as the resting membrane potential, is maintained by ion pumps that actively transport ions (charged particles) in and out of the cell.\n",
    "\n",
    "An action potential is initiated when the neuron receives enough signals from other neurons to cause a change in the membrane potential. This change opens voltage-gated sodium channels, allowing positively charged sodium ions to rush into the cell. This rapid influx of sodium ions makes the inside of the cell briefly more positive than the outside, a state known as depolarization.\n",
    "\n",
    "Soon after, voltage-gated potassium channels open, allowing positively charged potassium ions to leave the cell. This outflow of potassium ions returns the cell to a negative internal charge, a process known as repolarization. The neuron then briefly becomes more negative than the resting state, a phase called hyperpolarization, before ion pumps restore the resting membrane potential.\n",
    "\n",
    "This cycle of depolarization, repolarization, and hyperpolarization constitutes an action potential. The action potential travels along the axon like a wave, eventually reaching the axon terminals. Here, it triggers the release of chemicals called neurotransmitters into the synapse, passing the signal to the next neuron.\n",
    "\n",
    "Let us watch a short video explaining these concepts in a little more detail:\n",
    "\n",
    "<iframe width=\"560\" height=\"315\" src=\"https://www.youtube.com/embed/oa6rvUJlg7o\" title=\"YouTube video player\" frameborder=\"0\" allow=\"accelerometer; autoplay; clipboard-write; encrypted-media; gyroscope; picture-in-picture; web-share\" allowfullscreen></iframe>"
   ]
  },
  {
   "attachments": {},
   "cell_type": "markdown",
   "metadata": {},
   "source": [
    "## Three Key Modelling Approaches: \"What\", \"How\", and \"Why\"\n",
    "\n",
    "Computational neuroscience is much like a detective trying to solve a mystery novel. The characters represent neurons, the plot is the neural activity, and the setting is the brain itself. There are three types of models or clues that the detective uses to solve the mystery.\n",
    "\n",
    "### What Models\n",
    "\n",
    "A 'What' model is like the factual information that a detective gathers. This includes the characters involved, their interactions, the timeline of events, etc. In terms of our brain, a 'What' model would describe observable facts, like the pattern of neural activity or the time between neuron signals, also known as inter-spike intervals (ISIs). This model provides the initial descriptive understanding of the phenomena under investigation, such as noting that the ISIs follow a particular pattern.\n",
    "\n",
    "### How Models\n",
    "\n",
    "A 'How' model resembles the detective's reconstruction of the crime scene or events, showing not just what happened, but how it happened. For instance, in understanding brain function, a 'How' model proposes a mechanism or process to explain the observed pattern of ISIs. This model goes beyond description and attempts to explain the series of events that led to the observed pattern, such as suggesting that a balance between different types of neural signals might generate the observed ISI pattern.\n",
    "\n",
    "### Why Models\n",
    "\n",
    "Lastly, a 'Why' model is like the detective's final deduction, revealing why the crime occurred, the motives behind the characters' actions. In neuroscience, 'Why' models strive to understand the underlying principles or reasons that explain the observed patterns and proposed mechanisms. They look for the ultimate purpose behind a phenomenon, like why neurons generate signals with a specific pattern, perhaps because it's the most efficient way for the brain to transmit information.\n",
    "\n",
    "\n",
    "[TODO - In addition to this, computational neuroscientists study brain study the brain at difernt levels of scale, abstraction, etc]"
   ]
  },
  {
   "cell_type": "markdown",
   "metadata": {},
   "source": [
    "### [OPTIONAL] Model Types Video\n",
    "\n",
    "If you are interested in delving further into the details of these different types of models, there is a highly informative video below that offers an excellent introduction with relevant examples for each model. However, it's essential to be aware that the video may contain concepts and terminologies that might not be accessible to everyone in the target audience for the contents of this repository.\n",
    "\n",
    "<iframe width=\"560\" height=\"315\" src=\"https://www.youtube.com/embed/W5o_HTsef0I\" title=\"YouTube video player\" frameborder=\"0\" allow=\"accelerometer; autoplay; clipboard-write; encrypted-media; gyroscope; picture-in-picture; web-share\" allowfullscreen></iframe>"
   ]
  },
  {
   "cell_type": "markdown",
   "metadata": {},
   "source": [
    "## Discuss:\n",
    "\n",
    "- Which models when?\n",
    "\n",
    "- Which model kinds do you like best?\n",
    "\n",
    "    - Why?\n",
    "\n",
    "    - Would you be missing something if the other models did not exist?"
   ]
  }
 ],
 "metadata": {
  "language_info": {
   "name": "python"
  },
  "orig_nbformat": 4
 },
 "nbformat": 4,
 "nbformat_minor": 2
}
