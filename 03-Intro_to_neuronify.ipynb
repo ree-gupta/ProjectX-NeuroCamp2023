{
 "cells": [
  {
   "cell_type": "markdown",
   "metadata": {},
   "source": [
    "## Neuronify\n",
    "\n",
    "Neuronify is an educational app for studying neural networks. The engine is based on an integrate-and-fire model.\n",
    "\n",
    "If interested, you can find the entire documentation here - https://cinpla.github.io/neuronify/doc/index.html"
   ]
  },
  {
   "cell_type": "markdown",
   "metadata": {},
   "source": [
    "We will use the online version of the neuronify app for our project here, which is available here: https://dragly.org/projects/neuronify/ \n",
    "\n",
    "When you first open the application on the web-browser, it should look something like this:\n",
    "\n",
    "![neuronify-first-view](./static/neuronify-first-view.png)"
   ]
  },
  {
   "cell_type": "markdown",
   "metadata": {},
   "source": [
    "You could go about playing with this simulator tool or directly jump to the next section to do some exercises and learn the tool on the way.\n",
    "\n",
    "We would be using these elements of the application:\n",
    "\n",
    "- The excitatory leaky neuron\n",
    "- The inhibitory leaky neuron\n",
    "- Measurement: Voltmeter, Spike detector, etc\n",
    "- Generators: DC input, etc\n",
    "- Annotations"
   ]
  },
  {
   "cell_type": "markdown",
   "metadata": {},
   "source": [
    "[TODO: - Cnavas info, elements setting info, saving info, uploading info]"
   ]
  },
  {
   "cell_type": "markdown",
   "metadata": {},
   "source": [
    "## References:\n",
    "\n",
    "- [Neuronify Documentation](https://cinpla.github.io/neuronify/doc/)"
   ]
  }
 ],
 "metadata": {
  "language_info": {
   "name": "python"
  },
  "orig_nbformat": 4
 },
 "nbformat": 4,
 "nbformat_minor": 2
}
