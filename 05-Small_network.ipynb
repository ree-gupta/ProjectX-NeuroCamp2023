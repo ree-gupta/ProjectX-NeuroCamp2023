{
 "cells": [
  {
   "cell_type": "markdown",
   "metadata": {},
   "source": [
    "## Small networks"
   ]
  },
  {
   "cell_type": "markdown",
   "metadata": {},
   "source": [
    "In this section we will connect neurons to make simple neural networks. In Neuronify, you can connect a neuron to another neuron just like any other device, such as those we looked at in the previous section. "
   ]
  },
  {
   "cell_type": "markdown",
   "metadata": {},
   "source": [
    " Make the simplest possible network by connecting one neuron to another:\n",
    " \n",
    " - Create an empty canvas by pressing the menu button in the upper left corner, then press select simulation and click on the empty canvas.\n",
    "\n",
    "- Create two neurons, and label them 'A' and 'B'. You can set neuron labels by pressing a neuron, pressing the properties icon in the bottom left corner. This will open up a tab on the left side of the screen. Press the field marked 'Label:' and enter the label you want. Complete the operation by pressing Enter. \n",
    "\n",
    "- Connect neuron A to neuron B by clicking on neuron A, grabbing the connection and pulling it to neuron B. \n",
    "\n",
    "- Connect a DC clamp to neuron A. Connect a Voltmeter to both neurons by dragging the voltmeter onto the canvas, pressing it, and dragging the connection individually to each of the neuron."
   ]
  },
  {
   "cell_type": "markdown",
   "metadata": {},
   "source": []
  },
  {
   "cell_type": "code",
   "execution_count": null,
   "metadata": {},
   "outputs": [],
   "source": []
  }
 ],
 "metadata": {
  "language_info": {
   "name": "python"
  },
  "orig_nbformat": 4
 },
 "nbformat": 4,
 "nbformat_minor": 2
}
