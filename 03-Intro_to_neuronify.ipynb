{
 "cells": [
  {
   "cell_type": "markdown",
   "metadata": {},
   "source": [
    "## Neuronify\n",
    "\n",
    "Neuronify is an educational app for studying neural networks. The engine is based on an integrate-and-fire model.\n",
    "\n",
    "If interested, you can find the entire documentation here - https://cinpla.github.io/neuronify/doc/index.html"
   ]
  },
  {
   "cell_type": "markdown",
   "metadata": {},
   "source": [
    "We will use the online version of the neuronify app for our project here, which is available here: https://dragly.org/projects/neuronify/ \n",
    "\n",
    "When you first open the application on the web-browser, it should look something like this:\n",
    "\n",
    "![neuronify-first-view](./static/neuronify-first-view.png)"
   ]
  },
  {
   "cell_type": "markdown",
   "metadata": {},
   "source": [
    "You could go about playing with this simulator tool or directly jump to the next section to do some exercises and learn the tool on the way.\n",
    "\n",
    "We would be using these elements of the application:\n",
    "\n",
    "- The excitatory leaky neuron\n",
    "- The inhibitory leaky neuron\n",
    "- Measurement: Voltmeter, Spike detector, etc\n",
    "- Generators: DC input, etc\n",
    "- Annotations"
   ]
  },
  {
   "cell_type": "markdown",
   "metadata": {},
   "source": [
    "#### Introduction to the Canvas\n",
    "\n",
    "The canvas is the central workspace of the Neuronify app. You can create a new canvas, using the \"New\" option on the top left of the screen. Here you can place, connect and configure neurons and other elements to build your neural networks. You can move around the canvas by dragging it with your mouse (or finger on mobile devices), and zoom in and out using the pinch gesture or the scroll wheel on a mouse.\n",
    "\n",
    "#### Adding Elements to the Canvas\n",
    "\n",
    "To add an element to the canvas, you can use the toolbar, which is located at the left of the screen. The toolbar contains different types of neurons, sensors, effectors, and synapses you can add to your network. To add an element, you can click or tap on it in the toolbar and grag it on the canvas where you want the element to be placed.\n",
    "\n",
    "#### Configuring Elements\n",
    "\n",
    "After placing an element on the canvas, you should be able to select it by clicking or tapping on it. Once selected, a settings or properties panel appears on the bottom left. Here you can adjust various parameters for the element, such as its firing threshold for a neuron, or the rate of a spike generator. The exact parameters available can will vary depending on the element type.\n",
    "\n",
    "#### Connecting Elements\n",
    "\n",
    "To create a network, you need to connect the elements together. This is done by selecting an element and dragging a connection from it to another element.\n",
    "\n",
    "#### Saving the Canvas\n",
    "\n",
    "Once you have created a network, you will likely want to save it so you can continue working on it later or share it with others. On top of your screen, there is a \"Save as\" option available. \n",
    "\n",
    "#### Uploading a Canvas\n",
    "\n",
    "If you have a network file that you have previously saved or that someone else has shared with you, you can upload it to the app to view and edit the network. This is done through an open option on the top of your screen, where you can navigate to the file on your device, select it, and then load it onto the canvas.\n"
   ]
  },
  {
   "cell_type": "markdown",
   "metadata": {},
   "source": [
    "## References:\n",
    "\n",
    "- [Neuronify Documentation](https://cinpla.github.io/neuronify/doc/)"
   ]
  }
 ],
 "metadata": {
  "language_info": {
   "name": "python"
  },
  "orig_nbformat": 4
 },
 "nbformat": 4,
 "nbformat_minor": 2
}
